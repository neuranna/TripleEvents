{
 "cells": [
  {
   "cell_type": "code",
   "execution_count": 1,
   "metadata": {},
   "outputs": [],
   "source": [
    "import nibabel as nib\n",
    "import numpy as np\n",
    "import matplotlib.pyplot as plt\n",
    "from nilearn.plotting import plot_glass_brain\n",
    "import pandas as pd\n",
    "import os\n",
    "from os.path import join"
   ]
  },
  {
   "cell_type": "markdown",
   "metadata": {},
   "source": [
    "### Setup"
   ]
  },
  {
   "cell_type": "code",
   "execution_count": 4,
   "metadata": {},
   "outputs": [],
   "source": [
    "AFFINE = nib.load('TripleEvents_parcels/fROIs_filtered_overlap60_minsize200.nii').affine\n",
    "\n",
    "def load_img(nii_path):\n",
    "    img = nib.load(nii_path)\n",
    "    if not np.array_equal(img.affine, AFFINE):\n",
    "        raise ValueError('Unexpected affine')\n",
    "    return img.get_fdata()\n",
    "\n",
    "\n",
    "def load_parcels():\n",
    "    left_inf_pole = load_img('ATL_parcels/left_inferior_pole.nii')\n",
    "    left_inf_pole_middle = load_img('ATL_parcels/left_inferior_pole_middle.nii')\n",
    "    right_inf_pole = load_img('ATL_parcels/right_inferior_pole.nii')\n",
    "    right_inf_pole_middle = load_img('ATL_parcels/right_inferior_pole_middle.nii')\n",
    "    tripleevents = load_img('TripleEvents_parcels/fROIs_filtered_overlap60_minsize200.nii')\n",
    "    tripleevents[tripleevents>0] = 1 #creating a general tripleevents mask\n",
    "\n",
    "    region_1 = load_img('TripleEvents_parcels/region_1.nii')\n",
    "    region_2 = load_img('TripleEvents_parcels/region_2.nii')\n",
    "    region_3 = load_img('TripleEvents_parcels/region_3.nii')\n",
    "    region_4 = load_img('TripleEvents_parcels/region_4.nii')\n",
    "    region_5 = load_img('TripleEvents_parcels/region_5.nii')\n",
    "    region_6 = load_img('TripleEvents_parcels/region_6.nii')\n",
    "    region_7 = load_img('TripleEvents_parcels/region_7.nii')\n",
    "    region_8 = load_img('TripleEvents_parcels/region_8.nii')\n",
    "    region_9 = load_img('TripleEvents_parcels/region_9.nii')\n",
    "    region_10 = load_img('TripleEvents_parcels/region_10.nii')\n",
    "    region_11 = load_img('TripleEvents_parcels/region_11.nii')\n",
    "        \n",
    "    return left_inf_pole, left_inf_pole_middle, right_inf_pole, right_inf_pole_middle, tripleevents, region_1, region_2, region_3, region_4, region_5, region_6, region_7, region_8, region_9, region_10, region_11\n",
    "\n",
    "\n",
    "def split_tripleevents_parcel():\n",
    "    '''\n",
    "    splitting tripleevents parcels into individual regions\n",
    "    produces the parcels in TripleEvents_parcels/\n",
    "    '''\n",
    "    tripleevents = load_img('TripleEvents_parcels/fROIs_filtered_overlap60_minsize200.nii')\n",
    "\n",
    "    unique_ids = np.unique(tripleevents)\n",
    "    for id in unique_ids:\n",
    "        region_mask = np.zeros(tripleevents.shape)\n",
    "        region_ids = np.where(tripleevents == id)\n",
    "        region_mask[region_ids] = 1\n",
    "        mask_img = nib.Nifti1Image(region_mask, affine=AFFINE)\n",
    "        nib.save(mask_img, f'TripleEvents_parcels/region_{round(id)}.nii')\n",
    "\n",
    "\n",
    "# Function to determine new column values\n",
    "def determine_label(parcel_type):\n",
    "    if parcel_type in triple_events_dict.values():\n",
    "        return 'triple_events'\n",
    "    elif parcel_type in atl_dict.values():\n",
    "        return 'atl'\n",
    "    else:\n",
    "        return None  # or any other default value"
   ]
  },
  {
   "cell_type": "markdown",
   "metadata": {},
   "source": [
    "### Label Mapping Definition"
   ]
  },
  {
   "cell_type": "code",
   "execution_count": 5,
   "metadata": {},
   "outputs": [],
   "source": [
    "# Loading parcels\n",
    "left_inf_pole, left_inf_pole_middle, right_inf_pole, right_inf_pole_middle, tripleevents, region_1, region_2, region_3, region_4, region_5, region_6, region_7, region_8, region_9, region_10, region_11 = load_parcels()\n",
    "parcel_used = ['left_inf_pole', 'left_inf_pole_middle', 'right_inf_pole', 'right_inf_pole_middle', \n",
    "                'region_1', 'region_2', 'region_3', 'region_4', 'region_5', \n",
    "                'region_6', 'region_7', 'region_8', 'region_9', 'region_10', \n",
    "                'region_11']\n",
    "\n",
    "# Label mapping for plotting\n",
    "triple_events_dict = {\n",
    "    'region_1': 'F2',\n",
    "    'region_2': 'F1',\n",
    "    'region_3': 'TP3',\n",
    "    'region_4': 'TP2',\n",
    "    'region_5': 'Cer1',\n",
    "    'region_6': 'TP4',\n",
    "    'region_7': 'F3',\n",
    "    'region_8': 'TP1',\n",
    "    'region_9': 'O1',\n",
    "    'region_10': 'Cer2',\n",
    "    'region_11': 'O2',\n",
    "}\n",
    "\n",
    "atl_dict = {\n",
    "    'left_inf_pole': 'lATL (inf+pole)',\n",
    "    'left_inf_pole_middle': 'lATL (inf+pole+mid)',\n",
    "    'right_inf_pole': 'rATL (inf+pole)',\n",
    "    'right_inf_pole_middle': 'rATL (inf+pole+mid)',\n",
    "}"
   ]
  },
  {
   "cell_type": "markdown",
   "metadata": {},
   "source": [
    "### Calculate mean tsnr for each parcel"
   ]
  },
  {
   "cell_type": "code",
   "execution_count": 7,
   "metadata": {},
   "outputs": [],
   "source": [
    "label_mapping = {**triple_events_dict, **atl_dict}\n",
    "\n",
    "# Initializing df columns\n",
    "subj, func_run, parcel_type, voxel_num_for_average, mean_tsnr = [], [], [], [], []\n",
    "\n",
    "# Calculate mean tsnr values for each parcel, save in columns\n",
    "matrix_dir = 'tsnr_matrices'\n",
    "number_zero = np.log(1e-10)\n",
    "for dir in os.listdir(matrix_dir):\n",
    "    for file in os.listdir(join(matrix_dir, dir)):\n",
    "        tsnr_matrix = np.load(f'{matrix_dir}/{dir}/{file}')\n",
    "        tsnr_matrix[tsnr_matrix == number_zero] = np.nan\n",
    "        for parcel_name in parcel_used:\n",
    "            parcel = globals()[parcel_name]\n",
    "            # Masking out values outside of parcel boundry\n",
    "            filtered_tsnr_matrix = tsnr_matrix * parcel\n",
    "            # Setting 0 to nans for values corresponding to 0s in parcels\n",
    "            mask = (parcel == 0)\n",
    "            filtered_tsnr_matrix[mask] = np.nan\n",
    "            # Taking mean, ignoring NAs\n",
    "            mean_tsnr_value = np.nanmean(filtered_tsnr_matrix)\n",
    "            # Number of voxels accounted for mean\n",
    "            voxel_count = np.count_nonzero(~np.isnan(filtered_tsnr_matrix))\n",
    "            # Recording values\n",
    "            subj.append(dir)\n",
    "            func_run.append(file.strip('.npy'))\n",
    "            parcel_type.append(parcel_name)\n",
    "            voxel_num_for_average.append(voxel_count)\n",
    "            mean_tsnr.append(mean_tsnr_value)\n",
    "\n",
    "# Store in DF\n",
    "df = pd.DataFrame({\n",
    "    'subj': subj,\n",
    "    'func_run': func_run,\n",
    "    'parcel_type': parcel_type,\n",
    "    'voxel_num_for_average': voxel_num_for_average,\n",
    "    'mean_tsnr': mean_tsnr\n",
    "})\n",
    "\n",
    "# Map 'parcel_type' using the dictionary\n",
    "df['parcel_type'] = df['parcel_type'].map(label_mapping).fillna(df['parcel_type'])\n",
    "\n",
    "# Add a new column indicateing whether parcel is from tripleevents or atl\n",
    "df['parcel_source'] = df['parcel_type'].apply(determine_label)\n",
    "df.to_csv('data/mean_tsnr_all_runs.csv')"
   ]
  },
  {
   "cell_type": "markdown",
   "metadata": {},
   "source": [
    "### Plotting"
   ]
  },
  {
   "cell_type": "code",
   "execution_count": 23,
   "metadata": {},
   "outputs": [
    {
     "data": {
      "image/png": "[encoded data removed]",
      "text/plain": [
       "<Figure size 1000x600 with 1 Axes>"
      ]
     },
     "metadata": {},
     "output_type": "display_data"
    }
   ],
   "source": [
    "df = pd.read_csv('data/mean_tsnr_all_runs.csv')\n",
    "\n",
    "# First, calculate the subject-level means of 'mean_tsnr' for each parcel type and parcel source\n",
    "subject_means = df.groupby(['subj', 'parcel_type', 'parcel_source'])['mean_tsnr'].mean().reset_index()\n",
    "\n",
    "# Now, calculate the mean and standard error for each parcel type and parcel source\n",
    "mean_values = subject_means.groupby(['parcel_type', 'parcel_source']).agg(\n",
    "    mean=('mean_tsnr', 'mean'),\n",
    "    std=('mean_tsnr', 'std'),\n",
    "    n_subjs=('subj', 'nunique')\n",
    ").reset_index()\n",
    "\n",
    "# Calculate the standard error for each parcel type\n",
    "mean_values['sem'] = mean_values['std'] / np.sqrt(mean_values['n_subjs'])\n",
    "\n",
    "# Set colors based on 'parcel_source'\n",
    "colors = np.where(mean_values['parcel_source'] == 'triple_events', 'skyblue', 'salmon')\n",
    "\n",
    "# Calculate the average 'mean_tsnr' for 'triple_events'\n",
    "average_triple_events = subject_means[subject_means['parcel_source'] == 'triple_events']['mean_tsnr'].mean()\n",
    "\n",
    "# Plot\n",
    "plt.figure(figsize=(10, 6))\n",
    "plt.bar(mean_values['parcel_type'], mean_values['mean'], yerr=mean_values['sem'], color=colors, capsize=5)\n",
    "plt.axhline(y=average_triple_events, color='black', linestyle='--', label='Average tSNR (semantic demand parcels)')\n",
    "plt.xlabel('Parcel')\n",
    "plt.ylabel('Average TSNR')\n",
    "plt.ylim(0, 5.8)\n",
    "plt.title('Average tSNR by parcel')\n",
    "plt.xticks(rotation=90)\n",
    "plt.legend(loc = 'upper right')\n",
    "plt.tight_layout()\n",
    "plt.savefig('tsnr_plot.pdf', format='pdf')\n",
    "plt.show()"
   ]
  },
  {
   "cell_type": "code",
   "execution_count": 15,
   "metadata": {},
   "outputs": [
    {
     "data": {
      "text/plain": [
       "<Figure size 640x480 with 0 Axes>"
      ]
     },
     "metadata": {},
     "output_type": "display_data"
    }
   ],
   "source": [
    "# Export as vectorized PDF\n",
    "\n",
    "plt.savefig('tsnr_plot.pdf', format='pdf')"
   ]
  }
 ],
 "metadata": {
  "kernelspec": {
   "display_name": "nlp",
   "language": "python",
   "name": "python3"
  },
  "language_info": {
   "codemirror_mode": {
    "name": "ipython",
    "version": 3
   },
   "file_extension": ".py",
   "mimetype": "text/x-python",
   "name": "python",
   "nbconvert_exporter": "python",
   "pygments_lexer": "ipython3",
   "version": "3.11.4"
  }
 },
 "nbformat": 4,
 "nbformat_minor": 2
}
