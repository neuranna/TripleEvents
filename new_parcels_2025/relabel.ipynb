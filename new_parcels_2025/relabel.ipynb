{
 "cells": [
  {
   "cell_type": "code",
   "execution_count": 11,
   "metadata": {},
   "outputs": [],
   "source": [
    "import nilearn.image\n",
    "import numpy as np"
   ]
  },
  {
   "cell_type": "code",
   "execution_count": 12,
   "metadata": {},
   "outputs": [],
   "source": [
    "old_labels = {\n",
    "    '1':'F2',\n",
    "    '2':'F1',\n",
    "    '3':'F3',\n",
    "    '4':'TP1',\n",
    "    '5':'TP4',\n",
    "    '6':'TP2',\n",
    "    '7':'TP3',\n",
    "    '8':'O1',\n",
    "    '9':'O2',\n",
    "    '10':'Cer1',\n",
    "    '11':'Cer2',\n",
    "}\n",
    "new_labels = {\n",
    "    '1':'F2', \n",
    "    '2':'F1', \n",
    "    '3':'TP3', \n",
    "    '4':'TP2', \n",
    "    '5':'Cer1', \n",
    "    '6':'TP4',\n",
    "    '7':'F3', \n",
    "    '8':'TP1', \n",
    "    '9':'O1', \n",
    "    '10':'Cer2', \n",
    "    '11':'O2'\n",
    "}"
   ]
  },
  {
   "cell_type": "code",
   "execution_count": 13,
   "metadata": {},
   "outputs": [],
   "source": [
    "def relabel(data):\n",
    "    \"\"\"\n",
    "    Relabels the data according to the new_labels mapping.\n",
    "    \"\"\"\n",
    "    new_data = np.zeros_like(data)\n",
    "    for old_label, new_label in zip(old_labels.keys(), new_labels.keys()):\n",
    "        new_data[data == int(old_label)] = int(new_label)\n",
    "    return new_data"
   ]
  },
  {
   "cell_type": "code",
   "execution_count": 14,
   "metadata": {},
   "outputs": [],
   "source": [
    "img = nilearn.image.load_img('fROIs_filtered_overlap60_minsize200_relabeled.nii')\n",
    "img_data = img.get_fdata()\n",
    "img_data = np.round(img_data / 2)\n",
    "img_data = relabel(img_data)\n",
    "img = nilearn.image.new_img_like(img, img_data)\n",
    "img.to_filename('Events_original.nii')"
   ]
  },
  {
   "cell_type": "code",
   "execution_count": 15,
   "metadata": {},
   "outputs": [
    {
     "name": "stdout",
     "output_type": "stream",
     "text": [
      "[ 0. 12. 13. 14. 15. 16. 17. 18. 19. 20. 21. 22.]\n"
     ]
    }
   ],
   "source": [
    "img = nilearn.image.load_img('fROIs_filtered_overlap60_minsize200_relabeled_flipped.nii')\n",
    "img_data = img.get_fdata()\n",
    "img_data = np.round(img_data / 2)\n",
    "img_data = relabel(img_data) + 11\n",
    "img_data[img_data == 11] = 0\n",
    "print(np.unique(img_data))\n",
    "img = nilearn.image.new_img_like(img, img_data)\n",
    "img.to_filename('Events_flipped.nii')"
   ]
  }
 ],
 "metadata": {
  "kernelspec": {
   "display_name": "funroi_env",
   "language": "python",
   "name": "python3"
  },
  "language_info": {
   "codemirror_mode": {
    "name": "ipython",
    "version": 3
   },
   "file_extension": ".py",
   "mimetype": "text/x-python",
   "name": "python",
   "nbconvert_exporter": "python",
   "pygments_lexer": "ipython3",
   "version": "3.10.15"
  }
 },
 "nbformat": 4,
 "nbformat_minor": 2
}
